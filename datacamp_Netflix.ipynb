{
 "cells": [
  {
   "cell_type": "code",
   "execution_count": 1,
   "id": "bdbc6d0d",
   "metadata": {},
   "outputs": [],
   "source": [
    "import pandas as pd \n",
    "import matplotlib.pyplot as plt"
   ]
  },
  {
   "cell_type": "code",
   "execution_count": 2,
   "id": "7afe41f6",
   "metadata": {},
   "outputs": [
    {
     "data": {
      "text/html": [
       "<div>\n",
       "<style scoped>\n",
       "    .dataframe tbody tr th:only-of-type {\n",
       "        vertical-align: middle;\n",
       "    }\n",
       "\n",
       "    .dataframe tbody tr th {\n",
       "        vertical-align: top;\n",
       "    }\n",
       "\n",
       "    .dataframe thead th {\n",
       "        text-align: right;\n",
       "    }\n",
       "</style>\n",
       "<table border=\"1\" class=\"dataframe\">\n",
       "  <thead>\n",
       "    <tr style=\"text-align: right;\">\n",
       "      <th></th>\n",
       "      <th>show_id</th>\n",
       "      <th>type</th>\n",
       "      <th>title</th>\n",
       "      <th>director</th>\n",
       "      <th>cast</th>\n",
       "      <th>country</th>\n",
       "      <th>date_added</th>\n",
       "      <th>release_year</th>\n",
       "      <th>duration</th>\n",
       "      <th>description</th>\n",
       "      <th>genre</th>\n",
       "    </tr>\n",
       "  </thead>\n",
       "  <tbody>\n",
       "    <tr>\n",
       "      <th>0</th>\n",
       "      <td>s2</td>\n",
       "      <td>Movie</td>\n",
       "      <td>7:19</td>\n",
       "      <td>Jorge Michel Grau</td>\n",
       "      <td>Demián Bichir, Héctor Bonilla, Oscar Serrano, ...</td>\n",
       "      <td>Mexico</td>\n",
       "      <td>December 23, 2016</td>\n",
       "      <td>2016</td>\n",
       "      <td>93</td>\n",
       "      <td>After a devastating earthquake hits Mexico Cit...</td>\n",
       "      <td>Dramas</td>\n",
       "    </tr>\n",
       "    <tr>\n",
       "      <th>1</th>\n",
       "      <td>s3</td>\n",
       "      <td>Movie</td>\n",
       "      <td>23:59</td>\n",
       "      <td>Gilbert Chan</td>\n",
       "      <td>Tedd Chan, Stella Chung, Henley Hii, Lawrence ...</td>\n",
       "      <td>Singapore</td>\n",
       "      <td>December 20, 2018</td>\n",
       "      <td>2011</td>\n",
       "      <td>78</td>\n",
       "      <td>When an army recruit is found dead, his fellow...</td>\n",
       "      <td>Horror Movies</td>\n",
       "    </tr>\n",
       "    <tr>\n",
       "      <th>2</th>\n",
       "      <td>s4</td>\n",
       "      <td>Movie</td>\n",
       "      <td>9</td>\n",
       "      <td>Shane Acker</td>\n",
       "      <td>Elijah Wood, John C. Reilly, Jennifer Connelly...</td>\n",
       "      <td>United States</td>\n",
       "      <td>November 16, 2017</td>\n",
       "      <td>2009</td>\n",
       "      <td>80</td>\n",
       "      <td>In a postapocalyptic world, rag-doll robots hi...</td>\n",
       "      <td>Action</td>\n",
       "    </tr>\n",
       "    <tr>\n",
       "      <th>3</th>\n",
       "      <td>s5</td>\n",
       "      <td>Movie</td>\n",
       "      <td>21</td>\n",
       "      <td>Robert Luketic</td>\n",
       "      <td>Jim Sturgess, Kevin Spacey, Kate Bosworth, Aar...</td>\n",
       "      <td>United States</td>\n",
       "      <td>January 1, 2020</td>\n",
       "      <td>2008</td>\n",
       "      <td>123</td>\n",
       "      <td>A brilliant group of students become card-coun...</td>\n",
       "      <td>Dramas</td>\n",
       "    </tr>\n",
       "    <tr>\n",
       "      <th>4</th>\n",
       "      <td>s6</td>\n",
       "      <td>TV Show</td>\n",
       "      <td>46</td>\n",
       "      <td>Serdar Akar</td>\n",
       "      <td>Erdal Beşikçioğlu, Yasemin Allen, Melis Birkan...</td>\n",
       "      <td>Turkey</td>\n",
       "      <td>July 1, 2017</td>\n",
       "      <td>2016</td>\n",
       "      <td>1</td>\n",
       "      <td>A genetics professor experiments with a treatm...</td>\n",
       "      <td>International TV</td>\n",
       "    </tr>\n",
       "    <tr>\n",
       "      <th>...</th>\n",
       "      <td>...</td>\n",
       "      <td>...</td>\n",
       "      <td>...</td>\n",
       "      <td>...</td>\n",
       "      <td>...</td>\n",
       "      <td>...</td>\n",
       "      <td>...</td>\n",
       "      <td>...</td>\n",
       "      <td>...</td>\n",
       "      <td>...</td>\n",
       "      <td>...</td>\n",
       "    </tr>\n",
       "    <tr>\n",
       "      <th>4807</th>\n",
       "      <td>s7779</td>\n",
       "      <td>Movie</td>\n",
       "      <td>Zombieland</td>\n",
       "      <td>Ruben Fleischer</td>\n",
       "      <td>Jesse Eisenberg, Woody Harrelson, Emma Stone, ...</td>\n",
       "      <td>United States</td>\n",
       "      <td>November 1, 2019</td>\n",
       "      <td>2009</td>\n",
       "      <td>88</td>\n",
       "      <td>Looking to survive in a world taken over by zo...</td>\n",
       "      <td>Comedies</td>\n",
       "    </tr>\n",
       "    <tr>\n",
       "      <th>4808</th>\n",
       "      <td>s7781</td>\n",
       "      <td>Movie</td>\n",
       "      <td>Zoo</td>\n",
       "      <td>Shlok Sharma</td>\n",
       "      <td>Shashank Arora, Shweta Tripathi, Rahul Kumar, ...</td>\n",
       "      <td>India</td>\n",
       "      <td>July 1, 2018</td>\n",
       "      <td>2018</td>\n",
       "      <td>94</td>\n",
       "      <td>A drug dealer starts having doubts about his t...</td>\n",
       "      <td>Dramas</td>\n",
       "    </tr>\n",
       "    <tr>\n",
       "      <th>4809</th>\n",
       "      <td>s7782</td>\n",
       "      <td>Movie</td>\n",
       "      <td>Zoom</td>\n",
       "      <td>Peter Hewitt</td>\n",
       "      <td>Tim Allen, Courteney Cox, Chevy Chase, Kate Ma...</td>\n",
       "      <td>United States</td>\n",
       "      <td>January 11, 2020</td>\n",
       "      <td>2006</td>\n",
       "      <td>88</td>\n",
       "      <td>Dragged from civilian life, a former superhero...</td>\n",
       "      <td>Children</td>\n",
       "    </tr>\n",
       "    <tr>\n",
       "      <th>4810</th>\n",
       "      <td>s7783</td>\n",
       "      <td>Movie</td>\n",
       "      <td>Zozo</td>\n",
       "      <td>Josef Fares</td>\n",
       "      <td>Imad Creidi, Antoinette Turk, Elias Gergi, Car...</td>\n",
       "      <td>Sweden</td>\n",
       "      <td>October 19, 2020</td>\n",
       "      <td>2005</td>\n",
       "      <td>99</td>\n",
       "      <td>When Lebanon's Civil War deprives Zozo of his ...</td>\n",
       "      <td>Dramas</td>\n",
       "    </tr>\n",
       "    <tr>\n",
       "      <th>4811</th>\n",
       "      <td>s7784</td>\n",
       "      <td>Movie</td>\n",
       "      <td>Zubaan</td>\n",
       "      <td>Mozez Singh</td>\n",
       "      <td>Vicky Kaushal, Sarah-Jane Dias, Raaghav Chanan...</td>\n",
       "      <td>India</td>\n",
       "      <td>March 2, 2019</td>\n",
       "      <td>2015</td>\n",
       "      <td>111</td>\n",
       "      <td>A scrappy but poor boy worms his way into a ty...</td>\n",
       "      <td>Dramas</td>\n",
       "    </tr>\n",
       "  </tbody>\n",
       "</table>\n",
       "<p>4812 rows × 11 columns</p>\n",
       "</div>"
      ],
      "text/plain": [
       "     show_id     type       title           director  \\\n",
       "0         s2    Movie        7:19  Jorge Michel Grau   \n",
       "1         s3    Movie       23:59       Gilbert Chan   \n",
       "2         s4    Movie           9        Shane Acker   \n",
       "3         s5    Movie          21     Robert Luketic   \n",
       "4         s6  TV Show          46        Serdar Akar   \n",
       "...      ...      ...         ...                ...   \n",
       "4807   s7779    Movie  Zombieland    Ruben Fleischer   \n",
       "4808   s7781    Movie         Zoo       Shlok Sharma   \n",
       "4809   s7782    Movie        Zoom       Peter Hewitt   \n",
       "4810   s7783    Movie        Zozo        Josef Fares   \n",
       "4811   s7784    Movie      Zubaan        Mozez Singh   \n",
       "\n",
       "                                                   cast        country  \\\n",
       "0     Demián Bichir, Héctor Bonilla, Oscar Serrano, ...         Mexico   \n",
       "1     Tedd Chan, Stella Chung, Henley Hii, Lawrence ...      Singapore   \n",
       "2     Elijah Wood, John C. Reilly, Jennifer Connelly...  United States   \n",
       "3     Jim Sturgess, Kevin Spacey, Kate Bosworth, Aar...  United States   \n",
       "4     Erdal Beşikçioğlu, Yasemin Allen, Melis Birkan...         Turkey   \n",
       "...                                                 ...            ...   \n",
       "4807  Jesse Eisenberg, Woody Harrelson, Emma Stone, ...  United States   \n",
       "4808  Shashank Arora, Shweta Tripathi, Rahul Kumar, ...          India   \n",
       "4809  Tim Allen, Courteney Cox, Chevy Chase, Kate Ma...  United States   \n",
       "4810  Imad Creidi, Antoinette Turk, Elias Gergi, Car...         Sweden   \n",
       "4811  Vicky Kaushal, Sarah-Jane Dias, Raaghav Chanan...          India   \n",
       "\n",
       "             date_added  release_year  duration  \\\n",
       "0     December 23, 2016          2016        93   \n",
       "1     December 20, 2018          2011        78   \n",
       "2     November 16, 2017          2009        80   \n",
       "3       January 1, 2020          2008       123   \n",
       "4          July 1, 2017          2016         1   \n",
       "...                 ...           ...       ...   \n",
       "4807   November 1, 2019          2009        88   \n",
       "4808       July 1, 2018          2018        94   \n",
       "4809   January 11, 2020          2006        88   \n",
       "4810   October 19, 2020          2005        99   \n",
       "4811      March 2, 2019          2015       111   \n",
       "\n",
       "                                            description             genre  \n",
       "0     After a devastating earthquake hits Mexico Cit...            Dramas  \n",
       "1     When an army recruit is found dead, his fellow...     Horror Movies  \n",
       "2     In a postapocalyptic world, rag-doll robots hi...            Action  \n",
       "3     A brilliant group of students become card-coun...            Dramas  \n",
       "4     A genetics professor experiments with a treatm...  International TV  \n",
       "...                                                 ...               ...  \n",
       "4807  Looking to survive in a world taken over by zo...          Comedies  \n",
       "4808  A drug dealer starts having doubts about his t...            Dramas  \n",
       "4809  Dragged from civilian life, a former superhero...          Children  \n",
       "4810  When Lebanon's Civil War deprives Zozo of his ...            Dramas  \n",
       "4811  A scrappy but poor boy worms his way into a ty...            Dramas  \n",
       "\n",
       "[4812 rows x 11 columns]"
      ]
     },
     "execution_count": 2,
     "metadata": {},
     "output_type": "execute_result"
    }
   ],
   "source": [
    "df = pd.read_csv(r\"D:\\netflix_data.csv\")\n",
    "df"
   ]
  },
  {
   "cell_type": "markdown",
   "id": "67258e20",
   "metadata": {},
   "source": [
    "Overview data"
   ]
  },
  {
   "cell_type": "code",
   "execution_count": 3,
   "id": "42ca56b5",
   "metadata": {},
   "outputs": [
    {
     "name": "stdout",
     "output_type": "stream",
     "text": [
      "<class 'pandas.core.frame.DataFrame'>\n",
      "RangeIndex: 4812 entries, 0 to 4811\n",
      "Data columns (total 11 columns):\n",
      " #   Column        Non-Null Count  Dtype \n",
      "---  ------        --------------  ----- \n",
      " 0   show_id       4812 non-null   object\n",
      " 1   type          4812 non-null   object\n",
      " 2   title         4812 non-null   object\n",
      " 3   director      4812 non-null   object\n",
      " 4   cast          4812 non-null   object\n",
      " 5   country       4812 non-null   object\n",
      " 6   date_added    4812 non-null   object\n",
      " 7   release_year  4812 non-null   int64 \n",
      " 8   duration      4812 non-null   int64 \n",
      " 9   description   4812 non-null   object\n",
      " 10  genre         4812 non-null   object\n",
      "dtypes: int64(2), object(9)\n",
      "memory usage: 413.7+ KB\n"
     ]
    }
   ],
   "source": [
    "df.info()"
   ]
  },
  {
   "cell_type": "code",
   "execution_count": 4,
   "id": "255d07b8",
   "metadata": {},
   "outputs": [
    {
     "data": {
      "text/plain": [
       "release_year\n",
       "2017    646\n",
       "2018    624\n",
       "2016    562\n",
       "2019    488\n",
       "2020    379\n",
       "       ... \n",
       "1963      1\n",
       "1942      1\n",
       "1947      1\n",
       "1944      1\n",
       "1959      1\n",
       "Name: count, Length: 71, dtype: int64"
      ]
     },
     "execution_count": 4,
     "metadata": {},
     "output_type": "execute_result"
    }
   ],
   "source": [
    "df['release_year'].value_counts()"
   ]
  },
  {
   "cell_type": "markdown",
   "id": "1af05ede",
   "metadata": {},
   "source": [
    "Filter the data for movies released in the 1990s"
   ]
  },
  {
   "cell_type": "code",
   "execution_count": 8,
   "id": "83df9276",
   "metadata": {},
   "outputs": [
    {
     "data": {
      "text/plain": [
       "release_year\n",
       "1997    26\n",
       "1998    26\n",
       "1999    26\n",
       "1993    16\n",
       "1995    16\n",
       "1992    16\n",
       "1990    15\n",
       "1996    15\n",
       "1994    14\n",
       "1991    14\n",
       "Name: count, dtype: int64"
      ]
     },
     "execution_count": 8,
     "metadata": {},
     "output_type": "execute_result"
    }
   ],
   "source": [
    "movies1990s = df['release_year'].between(1990, 1999)\n",
    "df_90s = df[movies1990s]\n",
    "df_90s\n",
    "df_90s['release_year'].value_counts()"
   ]
  },
  {
   "cell_type": "code",
   "execution_count": 16,
   "id": "f4fe48af",
   "metadata": {},
   "outputs": [
    {
     "data": {
      "text/html": [
       "<div>\n",
       "<style scoped>\n",
       "    .dataframe tbody tr th:only-of-type {\n",
       "        vertical-align: middle;\n",
       "    }\n",
       "\n",
       "    .dataframe tbody tr th {\n",
       "        vertical-align: top;\n",
       "    }\n",
       "\n",
       "    .dataframe thead th {\n",
       "        text-align: right;\n",
       "    }\n",
       "</style>\n",
       "<table border=\"1\" class=\"dataframe\">\n",
       "  <thead>\n",
       "    <tr style=\"text-align: right;\">\n",
       "      <th></th>\n",
       "      <th>show_id</th>\n",
       "      <th>type</th>\n",
       "      <th>title</th>\n",
       "      <th>director</th>\n",
       "      <th>cast</th>\n",
       "      <th>country</th>\n",
       "      <th>date_added</th>\n",
       "      <th>release_year</th>\n",
       "      <th>duration</th>\n",
       "      <th>description</th>\n",
       "      <th>genre</th>\n",
       "    </tr>\n",
       "  </thead>\n",
       "  <tbody>\n",
       "    <tr>\n",
       "      <th>6</th>\n",
       "      <td>s8</td>\n",
       "      <td>Movie</td>\n",
       "      <td>187</td>\n",
       "      <td>Kevin Reynolds</td>\n",
       "      <td>Samuel L. Jackson, John Heard, Kelly Rowan, Cl...</td>\n",
       "      <td>United States</td>\n",
       "      <td>November 1, 2019</td>\n",
       "      <td>1997</td>\n",
       "      <td>119</td>\n",
       "      <td>After one of his high school students attacks ...</td>\n",
       "      <td>Dramas</td>\n",
       "    </tr>\n",
       "    <tr>\n",
       "      <th>118</th>\n",
       "      <td>s167</td>\n",
       "      <td>Movie</td>\n",
       "      <td>A Dangerous Woman</td>\n",
       "      <td>Stephen Gyllenhaal</td>\n",
       "      <td>Debra Winger, Barbara Hershey, Gabriel Byrne, ...</td>\n",
       "      <td>United States</td>\n",
       "      <td>April 1, 2018</td>\n",
       "      <td>1993</td>\n",
       "      <td>101</td>\n",
       "      <td>At the center of this engrossing melodrama is ...</td>\n",
       "      <td>Dramas</td>\n",
       "    </tr>\n",
       "    <tr>\n",
       "      <th>145</th>\n",
       "      <td>s211</td>\n",
       "      <td>Movie</td>\n",
       "      <td>A Night at the Roxbury</td>\n",
       "      <td>John Fortenberry</td>\n",
       "      <td>Will Ferrell, Chris Kattan, Dan Hedaya, Molly ...</td>\n",
       "      <td>United States</td>\n",
       "      <td>December 1, 2019</td>\n",
       "      <td>1998</td>\n",
       "      <td>82</td>\n",
       "      <td>After a run-in with Richard Grieco, dimwits Do...</td>\n",
       "      <td>Comedies</td>\n",
       "    </tr>\n",
       "    <tr>\n",
       "      <th>167</th>\n",
       "      <td>s239</td>\n",
       "      <td>Movie</td>\n",
       "      <td>A Thin Line Between Love &amp; Hate</td>\n",
       "      <td>Martin Lawrence</td>\n",
       "      <td>Martin Lawrence, Lynn Whitfield, Regina King, ...</td>\n",
       "      <td>United States</td>\n",
       "      <td>December 1, 2020</td>\n",
       "      <td>1996</td>\n",
       "      <td>108</td>\n",
       "      <td>When a philandering club promoter sets out to ...</td>\n",
       "      <td>Comedies</td>\n",
       "    </tr>\n",
       "    <tr>\n",
       "      <th>194</th>\n",
       "      <td>s274</td>\n",
       "      <td>Movie</td>\n",
       "      <td>Aashik Awara</td>\n",
       "      <td>Umesh Mehra</td>\n",
       "      <td>Saif Ali Khan, Mamta Kulkarni, Mohnish Bahl, S...</td>\n",
       "      <td>India</td>\n",
       "      <td>June 1, 2017</td>\n",
       "      <td>1993</td>\n",
       "      <td>154</td>\n",
       "      <td>Raised by a kindly thief, orphaned Jimmy goes ...</td>\n",
       "      <td>Dramas</td>\n",
       "    </tr>\n",
       "  </tbody>\n",
       "</table>\n",
       "</div>"
      ],
      "text/plain": [
       "    show_id   type                            title            director  \\\n",
       "6        s8  Movie                              187      Kevin Reynolds   \n",
       "118    s167  Movie                A Dangerous Woman  Stephen Gyllenhaal   \n",
       "145    s211  Movie           A Night at the Roxbury    John Fortenberry   \n",
       "167    s239  Movie  A Thin Line Between Love & Hate     Martin Lawrence   \n",
       "194    s274  Movie                     Aashik Awara         Umesh Mehra   \n",
       "\n",
       "                                                  cast        country  \\\n",
       "6    Samuel L. Jackson, John Heard, Kelly Rowan, Cl...  United States   \n",
       "118  Debra Winger, Barbara Hershey, Gabriel Byrne, ...  United States   \n",
       "145  Will Ferrell, Chris Kattan, Dan Hedaya, Molly ...  United States   \n",
       "167  Martin Lawrence, Lynn Whitfield, Regina King, ...  United States   \n",
       "194  Saif Ali Khan, Mamta Kulkarni, Mohnish Bahl, S...          India   \n",
       "\n",
       "           date_added  release_year  duration  \\\n",
       "6    November 1, 2019          1997       119   \n",
       "118     April 1, 2018          1993       101   \n",
       "145  December 1, 2019          1998        82   \n",
       "167  December 1, 2020          1996       108   \n",
       "194      June 1, 2017          1993       154   \n",
       "\n",
       "                                           description     genre  \n",
       "6    After one of his high school students attacks ...    Dramas  \n",
       "118  At the center of this engrossing melodrama is ...    Dramas  \n",
       "145  After a run-in with Richard Grieco, dimwits Do...  Comedies  \n",
       "167  When a philandering club promoter sets out to ...  Comedies  \n",
       "194  Raised by a kindly thief, orphaned Jimmy goes ...    Dramas  "
      ]
     },
     "execution_count": 16,
     "metadata": {},
     "output_type": "execute_result"
    }
   ],
   "source": [
    "df_90s.head()"
   ]
  },
  {
   "cell_type": "code",
   "execution_count": 9,
   "id": "b0dda11d",
   "metadata": {},
   "outputs": [
    {
     "data": {
      "image/png": "[encoded data removed]",
      "text/plain": [
       "<Figure size 640x480 with 1 Axes>"
      ]
     },
     "metadata": {},
     "output_type": "display_data"
    }
   ],
   "source": [
    "plt.hist(df_90s['release_year'], bins=10, color='blue', edgecolor='black')\n",
    "plt.title('Distribution of Movies Released in the 1990s')\n",
    "plt.xlabel('Release Year')\n",
    "plt.ylabel('Number of Movies')\n",
    "plt.xticks(range(1990, 2000))\n",
    "plt.show()\n"
   ]
  },
  {
   "cell_type": "markdown",
   "id": "1f21b9bd",
   "metadata": {},
   "source": [
    "Find the most frequent movie duration\n",
    "\n"
   ]
  },
  {
   "cell_type": "code",
   "execution_count": 10,
   "id": "bc9eb2a1",
   "metadata": {},
   "outputs": [
    {
     "data": {
      "text/plain": [
       "duration\n",
       "94     7\n",
       "101    6\n",
       "95     5\n",
       "108    5\n",
       "93     5\n",
       "      ..\n",
       "83     1\n",
       "138    1\n",
       "141    1\n",
       "30     1\n",
       "191    1\n",
       "Name: count, Length: 92, dtype: int64"
      ]
     },
     "execution_count": 10,
     "metadata": {},
     "output_type": "execute_result"
    }
   ],
   "source": [
    "df_90s['duration'].value_counts()"
   ]
  },
  {
   "cell_type": "code",
   "execution_count": 11,
   "id": "e9167d88",
   "metadata": {},
   "outputs": [
    {
     "data": {
      "text/plain": [
       "0    94\n",
       "Name: duration, dtype: int64"
      ]
     },
     "execution_count": 11,
     "metadata": {},
     "output_type": "execute_result"
    }
   ],
   "source": [
    "df_90s['duration'].mode()"
   ]
  },
  {
   "cell_type": "markdown",
   "id": "95304c29",
   "metadata": {},
   "source": [
    "The Most Frequent Movie Duration in the 1990s is 94 Minutes"
   ]
  },
  {
   "cell_type": "markdown",
   "id": "b4ce57e2",
   "metadata": {},
   "source": [
    "3 - Count the number of short action movies from the 1990s\n"
   ]
  },
  {
   "cell_type": "code",
   "execution_count": 12,
   "id": "6c73653d",
   "metadata": {},
   "outputs": [
    {
     "data": {
      "text/plain": [
       "genre\n",
       "Action            48\n",
       "Dramas            44\n",
       "Comedies          40\n",
       "Children          15\n",
       "Classic Movies    15\n",
       "Stand-Up           8\n",
       "Thrillers          5\n",
       "Horror Movies      4\n",
       "Documentaries      2\n",
       "Cult Movies        2\n",
       "Docuseries         1\n",
       "Name: count, dtype: int64"
      ]
     },
     "execution_count": 12,
     "metadata": {},
     "output_type": "execute_result"
    }
   ],
   "source": [
    "df_90s['genre'].value_counts()"
   ]
  },
  {
   "cell_type": "code",
   "execution_count": 13,
   "id": "e2dfdce4",
   "metadata": {},
   "outputs": [
    {
     "data": {
      "image/png": "[encoded data removed]",
      "text/plain": [
       "<Figure size 1700x500 with 1 Axes>"
      ]
     },
     "metadata": {},
     "output_type": "display_data"
    }
   ],
   "source": [
    "counts = df_90s['genre'].value_counts()\n",
    "counts.plot(kind= 'bar' , figsize=(17,5) , rot= 0)\n",
    "plt.xlabel('Gnere')\n",
    "plt.ylabel('Counts Of Movies')\n",
    "plt.title('Number of Movies by Genre in the 1990s')\n",
    "for i , n in enumerate(counts):\n",
    "    plt.text(i,n,n , ha='center' , va='bottom')\n"
   ]
  },
  {
   "cell_type": "markdown",
   "id": "a6393f2e",
   "metadata": {},
   "source": [
    "Count the number of short action movies released in the 1990s."
   ]
  },
  {
   "cell_type": "code",
   "execution_count": 14,
   "id": "de0c649b",
   "metadata": {},
   "outputs": [
    {
     "data": {
      "text/plain": [
       "6       False\n",
       "118     False\n",
       "145     False\n",
       "167     False\n",
       "194     False\n",
       "        ...  \n",
       "4672    False\n",
       "4689    False\n",
       "4718    False\n",
       "4746    False\n",
       "4756    False\n",
       "Length: 184, dtype: bool"
      ]
     },
     "execution_count": 14,
     "metadata": {},
     "output_type": "execute_result"
    }
   ],
   "source": [
    "short_action_movies = (df_90s[\"genre\"] == \"Action\") & (df_90s[\"duration\"] < 90)\n",
    "short_action_movies"
   ]
  },
  {
   "cell_type": "code",
   "execution_count": 15,
   "id": "990b3d0d",
   "metadata": {},
   "outputs": [
    {
     "data": {
      "text/plain": [
       "np.int64(7)"
      ]
     },
     "execution_count": 15,
     "metadata": {},
     "output_type": "execute_result"
    }
   ],
   "source": [
    "short_movie_count = short_action_movies.sum()\n",
    "short_movie_count"
   ]
  },
  {
   "cell_type": "markdown",
   "id": "8166bc4f",
   "metadata": {},
   "source": [
    "Only 7 Short Action Movies in the 1990s"
   ]
  }
 ],
 "metadata": {
  "kernelspec": {
   "display_name": "Python 3",
   "language": "python",
   "name": "python3"
  },
  "language_info": {
   "codemirror_mode": {
    "name": "ipython",
    "version": 3
   },
   "file_extension": ".py",
   "mimetype": "text/x-python",
   "name": "python",
   "nbconvert_exporter": "python",
   "pygments_lexer": "ipython3",
   "version": "3.13.5"
  }
 },
 "nbformat": 4,
 "nbformat_minor": 5
}
